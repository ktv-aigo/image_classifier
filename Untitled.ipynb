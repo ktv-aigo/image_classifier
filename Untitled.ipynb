{
 "cells": [
  {
   "cell_type": "code",
   "execution_count": 1,
   "metadata": {},
   "outputs": [
    {
     "name": "stdout",
     "output_type": "stream",
     "text": [
      "              precision    recall  f1-score   support\n",
      "\n",
      "         cat       0.64      0.50      0.56        14\n",
      "         dog       0.50      0.64      0.56        11\n",
      "\n",
      "    accuracy                           0.56        25\n",
      "   macro avg       0.57      0.57      0.56        25\n",
      "weighted avg       0.58      0.56      0.56        25\n",
      "\n"
     ]
    }
   ],
   "source": [
    "import os\n",
    "from preprocessing import processor\n",
    "import dataset.dataloader as data_loader\n",
    "from sklearn import preprocessing\n",
    "import numpy as np\n",
    "from sklearn.neighbors import KNeighborsClassifier\n",
    "from sklearn.model_selection import train_test_split\n",
    "from sklearn.metrics import classification_report\n",
    "\n",
    "path = \"/home/ktranrb/Desktop/image_classifier/dataset/train\"\n",
    "\n",
    "le = preprocessing.LabelEncoder()\n",
    "\n",
    "p = processor.Processor(28, 28)\n",
    "\n",
    "loader = data_loader.DataLoader(preprocessor=p)\n",
    "data, label = loader.load(path, size=100)\n",
    "\n",
    "le.fit(label)\n",
    "labels = le.transform(label)\n",
    "\n",
    "data = data.reshape(data.shape[0], 28*28*3)\n",
    "\n",
    "(trainX, testX, trainY, testY) = train_test_split(data, labels,\n",
    "                                                  test_size=0.25)\n",
    "\n",
    "model = KNeighborsClassifier(n_neighbors=2)\n",
    "model.fit(trainX, trainY)\n",
    "print(classification_report(testY, model.predict(testX),\n",
    "                            target_names=le.classes_))\n"
   ]
  },
  {
   "cell_type": "code",
   "execution_count": null,
   "metadata": {},
   "outputs": [],
   "source": []
  }
 ],
 "metadata": {
  "kernelspec": {
   "display_name": "Python 3",
   "language": "python",
   "name": "python3"
  },
  "language_info": {
   "codemirror_mode": {
    "name": "ipython",
    "version": 3
   },
   "file_extension": ".py",
   "mimetype": "text/x-python",
   "name": "python",
   "nbconvert_exporter": "python",
   "pygments_lexer": "ipython3",
   "version": "3.6.9"
  }
 },
 "nbformat": 4,
 "nbformat_minor": 4
}
